nombre="Angel" #Tipo de dato string (cadena de caracteres
print(nombre)
