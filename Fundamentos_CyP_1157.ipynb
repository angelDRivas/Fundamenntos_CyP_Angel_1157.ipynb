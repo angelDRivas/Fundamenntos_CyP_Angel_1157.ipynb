12 de octubre del 2021

nombre="Angel" '''Tipo de dato string(cadena de caracteres)'''
 print (nombre)
